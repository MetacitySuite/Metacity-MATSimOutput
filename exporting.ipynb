{
 "cells": [
  {
   "cell_type": "code",
   "execution_count": null,
   "metadata": {},
   "outputs": [],
   "source": [
    "import os, sys\n",
    "sys.path.insert(1,'./scripts')\n",
    "from scripts.loader import EventLoader\n",
    "from scripts.chunker import Chunker\n",
    "from scripts.eparser import EventParser\n",
    "from scripts.exporter import Exporter\n",
    "from scripts.network import Network"
   ]
  },
  {
   "cell_type": "code",
   "execution_count": null,
   "metadata": {},
   "outputs": [],
   "source": [
    "CARS = \"cars_only\"\n",
    "ALL = \"all_transport\"\n",
    "ALL_WALK = \"all_with_walk\""
   ]
  },
  {
   "cell_type": "code",
   "execution_count": null,
   "metadata": {},
   "outputs": [],
   "source": [
    "xml_path = \"../matsim/tramola_capacity1_100it/output_events.xml.gz\"\n",
    "network_path = \"../matsim/tramola_capacity1_100it/output_network.xml.gz\"\n",
    "GTFS_path = \"../PID_GTFS_1_11_2021_filtered\"\n",
    "vehicle_types = []"
   ]
  },
  {
   "cell_type": "code",
   "execution_count": null,
   "metadata": {},
   "outputs": [],
   "source": [
    "def load_population(event_size=1.5*10e6):\n",
    "    print(\"Loading population:\")\n",
    "    loader = EventLoader(xml_path=xml_path)\n",
    "    loader.load_population_CSV(chunk_size=event_size)\n",
    "\n",
    "    print(\"Parsing agents:\")\n",
    "    parser = EventParser(csv_files=loader.gather_csv_files())\n",
    "    parser()\n",
    "    print(\"Agents parsed.\")\n",
    "\n",
    "    chunker = Chunker()\n",
    "    chunker(chunk_size=500)\n",
    "\n",
    "def parse_population():\n",
    "    loader = EventLoader(xml_path=xml_path)\n",
    "    print(\"Parsing agents:\")\n",
    "    parser = EventParser(csv_files=loader.gather_csv_files())\n",
    "    parser()\n",
    "    print(\"Agents parsed.\")\n",
    "\n",
    "\n",
    "def load_new_chunks(chunk: int):\n",
    "    chunker = Chunker()\n",
    "    chunker(chunk_size=chunk)\n",
    "    \n",
    "\n",
    "def export_agents(export_mode):\n",
    "    exporter = Exporter(\"agent\", network_path=network_path, export_mode=export_mode, gtfs_path=GTFS_path)\n",
    "    exporter.export_agents(format = 'json', parallel=True, proc=os.cpu_count())\n",
    "    del exporter\n",
    "\n",
    "def export_vehicles(vehicle_types):\n",
    "    for veh_type in vehicle_types:\n",
    "        exporter = Exporter(veh_type, network_path=network_path, export_mode=ALL, gtfs_path=GTFS_path)\n",
    "        exporter.export_agents(format = 'json', parallel=True, proc=os.cpu_count())\n",
    "\n",
    "    del exporter"
   ]
  },
  {
   "cell_type": "code",
   "execution_count": null,
   "metadata": {},
   "outputs": [],
   "source": [
    "load_population(event_size=3*10e6) \n",
    "#~3hod for agents and cars 100k, synthpop ~1.20hod\n",
    "#parse_population()"
   ]
  },
  {
   "cell_type": "code",
   "execution_count": null,
   "metadata": {},
   "outputs": [],
   "source": [
    "load_new_chunks(200) #cars and agents 100k : 1m20s, all : 2min"
   ]
  },
  {
   "cell_type": "code",
   "execution_count": null,
   "metadata": {},
   "outputs": [],
   "source": [
    "#export_agents(ALL) #100k = 208 min (cars), synthpop ~ 50 min (cars), synthpop ~ xx min (all)"
   ]
  },
  {
   "cell_type": "code",
   "execution_count": null,
   "metadata": {},
   "outputs": [],
   "source": [
    "export_vehicles([\"bike\"]) #3 min"
   ]
  },
  {
   "cell_type": "code",
   "execution_count": null,
   "metadata": {},
   "outputs": [],
   "source": [
    "export_vehicles([\"subway\"]) #3 min"
   ]
  },
  {
   "cell_type": "code",
   "execution_count": null,
   "metadata": {},
   "outputs": [],
   "source": [
    "export_vehicles([\"funicular\"])"
   ]
  },
  {
   "cell_type": "code",
   "execution_count": null,
   "metadata": {},
   "outputs": [],
   "source": [
    "export_vehicles([\"car\"]) #100k pop = 55 min, synthpop 15min"
   ]
  },
  {
   "cell_type": "code",
   "execution_count": null,
   "metadata": {},
   "outputs": [],
   "source": [
    "export_vehicles([\"bus\"]) #20min"
   ]
  },
  {
   "cell_type": "code",
   "execution_count": null,
   "metadata": {},
   "outputs": [],
   "source": [
    "export_vehicles([\"tram\"]) #7 min"
   ]
  },
  {
   "cell_type": "code",
   "execution_count": null,
   "metadata": {},
   "outputs": [],
   "source": [
    "n = Network()\n",
    "n.set_path(network_path)\n",
    "n.load_nodes()\n",
    "n.load_links()\n",
    "n.join_network()\n",
    "n.status()\n",
    "n.export_shp(\"./output/network.shp\")"
   ]
  },
  {
   "cell_type": "code",
   "execution_count": null,
   "metadata": {},
   "outputs": [],
   "source": []
  }
 ],
 "metadata": {
  "interpreter": {
   "hash": "30f0103485fa261618a8c595a0abf0368cef3d01076c0a3e06f386f93a4f7fa5"
  },
  "kernelspec": {
   "display_name": "Python 3.9.5 64-bit ('venv': venv)",
   "language": "python",
   "name": "python3"
  },
  "language_info": {
   "codemirror_mode": {
    "name": "ipython",
    "version": 3
   },
   "file_extension": ".py",
   "mimetype": "text/x-python",
   "name": "python",
   "nbconvert_exporter": "python",
   "pygments_lexer": "ipython3",
   "version": "3.9.5"
  },
  "orig_nbformat": 4
 },
 "nbformat": 4,
 "nbformat_minor": 2
}
