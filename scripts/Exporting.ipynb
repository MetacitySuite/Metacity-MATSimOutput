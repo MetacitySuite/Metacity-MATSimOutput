{
 "cells": [
  {
   "cell_type": "code",
   "execution_count": 1,
   "metadata": {},
   "outputs": [],
   "source": [
    "import exporter as exp\n",
    "\n",
    "\n",
    "def export_vehicle(type, network_path = '.../../pop10k-eh4-qsim2-100it/output_network.xml.gz', chunk_size = 500, format = 'shp', parallel = True):\n",
    "    vehicle = exp.Exporter(type, network_path)\n",
    "    vehicle.export_agents(chunk_size=chunk_size, format=format,parallel=parallel)\n",
    "    del vehicle\n"
   ]
  },
  {
   "cell_type": "code",
   "execution_count": null,
   "metadata": {},
   "outputs": [],
   "source": [
    "\n",
    "export_vehicle(\"subway\")"
   ]
  },
  {
   "cell_type": "code",
   "execution_count": 1,
   "metadata": {},
   "outputs": [
    {
     "name": "stdout",
     "output_type": "stream",
     "text": [
      "Network status:\n",
      "path: ../../pop10k-eh4-qsim2-100it/output_network.xml.gz\n",
      "links: 72485\n",
      "nodes: 36047\n",
      "network: 72485\n"
     ]
    },
    {
     "data": {
      "text/html": [
       "<div>\n",
       "<style scoped>\n",
       "    .dataframe tbody tr th:only-of-type {\n",
       "        vertical-align: middle;\n",
       "    }\n",
       "\n",
       "    .dataframe tbody tr th {\n",
       "        vertical-align: top;\n",
       "    }\n",
       "\n",
       "    .dataframe thead th {\n",
       "        text-align: right;\n",
       "    }\n",
       "</style>\n",
       "<table border=\"1\" class=\"dataframe\">\n",
       "  <thead>\n",
       "    <tr style=\"text-align: right;\">\n",
       "      <th></th>\n",
       "      <th>from</th>\n",
       "      <th>to</th>\n",
       "      <th>length</th>\n",
       "      <th>freespeed</th>\n",
       "      <th>capacity</th>\n",
       "      <th>permlanes</th>\n",
       "      <th>oneway</th>\n",
       "      <th>link</th>\n",
       "      <th>x_from</th>\n",
       "      <th>y_from</th>\n",
       "      <th>x_to</th>\n",
       "      <th>y_to</th>\n",
       "      <th>link_modes</th>\n",
       "    </tr>\n",
       "  </thead>\n",
       "  <tbody>\n",
       "    <tr>\n",
       "      <th>0</th>\n",
       "      <td>7093534712</td>\n",
       "      <td>7093534714</td>\n",
       "      <td>7.777829461516752</td>\n",
       "      <td>4.166666666666667</td>\n",
       "      <td>600.0</td>\n",
       "      <td>1.0</td>\n",
       "      <td>1</td>\n",
       "      <td>1</td>\n",
       "      <td>747896.4538280093</td>\n",
       "      <td>1048801.8239456336</td>\n",
       "      <td>747888.6763019725</td>\n",
       "      <td>1048801.7552442597</td>\n",
       "      <td>car</td>\n",
       "    </tr>\n",
       "    <tr>\n",
       "      <th>1</th>\n",
       "      <td>7093534725</td>\n",
       "      <td>2578190700</td>\n",
       "      <td>28.704937473373167</td>\n",
       "      <td>4.166666666666667</td>\n",
       "      <td>600.0</td>\n",
       "      <td>1.0</td>\n",
       "      <td>1</td>\n",
       "      <td>10</td>\n",
       "      <td>747884.4511927455</td>\n",
       "      <td>1048864.1386517382</td>\n",
       "      <td>747856.7536429962</td>\n",
       "      <td>1048871.1722881207</td>\n",
       "      <td>car</td>\n",
       "    </tr>\n",
       "    <tr>\n",
       "      <th>2</th>\n",
       "      <td>298292443</td>\n",
       "      <td>298292442</td>\n",
       "      <td>64.18217908275788</td>\n",
       "      <td>5.555555555555555</td>\n",
       "      <td>300.0</td>\n",
       "      <td>1.0</td>\n",
       "      <td>1</td>\n",
       "      <td>100</td>\n",
       "      <td>733472.4220253518</td>\n",
       "      <td>1051288.1042787312</td>\n",
       "      <td>733524.8929652519</td>\n",
       "      <td>1051251.1427774385</td>\n",
       "      <td>car</td>\n",
       "    </tr>\n",
       "    <tr>\n",
       "      <th>3</th>\n",
       "      <td>29528643</td>\n",
       "      <td>60710655</td>\n",
       "      <td>68.32314950136674</td>\n",
       "      <td>4.166666666666667</td>\n",
       "      <td>600.0</td>\n",
       "      <td>1.0</td>\n",
       "      <td>1</td>\n",
       "      <td>1000</td>\n",
       "      <td>740506.0885302288</td>\n",
       "      <td>1043641.8997061598</td>\n",
       "      <td>740553.1029990299</td>\n",
       "      <td>1043592.3312125002</td>\n",
       "      <td>car</td>\n",
       "    </tr>\n",
       "    <tr>\n",
       "      <th>4</th>\n",
       "      <td>55405213</td>\n",
       "      <td>7532862903</td>\n",
       "      <td>42.85691749113167</td>\n",
       "      <td>8.333333333333334</td>\n",
       "      <td>1000.0</td>\n",
       "      <td>1.0</td>\n",
       "      <td>1</td>\n",
       "      <td>10000</td>\n",
       "      <td>743429.6723878416</td>\n",
       "      <td>1043594.461854194</td>\n",
       "      <td>743420.5886395905</td>\n",
       "      <td>1043552.5786726703</td>\n",
       "      <td>car</td>\n",
       "    </tr>\n",
       "  </tbody>\n",
       "</table>\n",
       "</div>"
      ],
      "text/plain": [
       "         from          to              length          freespeed capacity  \\\n",
       "0  7093534712  7093534714   7.777829461516752  4.166666666666667    600.0   \n",
       "1  7093534725  2578190700  28.704937473373167  4.166666666666667    600.0   \n",
       "2   298292443   298292442   64.18217908275788  5.555555555555555    300.0   \n",
       "3    29528643    60710655   68.32314950136674  4.166666666666667    600.0   \n",
       "4    55405213  7532862903   42.85691749113167  8.333333333333334   1000.0   \n",
       "\n",
       "  permlanes oneway   link             x_from              y_from  \\\n",
       "0       1.0      1      1  747896.4538280093  1048801.8239456336   \n",
       "1       1.0      1     10  747884.4511927455  1048864.1386517382   \n",
       "2       1.0      1    100  733472.4220253518  1051288.1042787312   \n",
       "3       1.0      1   1000  740506.0885302288  1043641.8997061598   \n",
       "4       1.0      1  10000  743429.6723878416   1043594.461854194   \n",
       "\n",
       "                x_to                y_to link_modes  \n",
       "0  747888.6763019725  1048801.7552442597        car  \n",
       "1  747856.7536429962  1048871.1722881207        car  \n",
       "2  733524.8929652519  1051251.1427774385        car  \n",
       "3  740553.1029990299  1043592.3312125002        car  \n",
       "4  743420.5886395905  1043552.5786726703        car  "
      ]
     },
     "metadata": {},
     "output_type": "display_data"
    }
   ],
   "source": [
    "import network as net\n",
    "network = net.Network()\n",
    "\n",
    "network.set_path('../../pop10k-eh4-qsim2-100it/output_network.xml.gz')\n",
    "network.load_nodes()\n",
    "network.load_links()\n",
    "network.join_network()\n",
    "network.status()\n",
    "display(network.net.head())\n",
    "network.export_shp(\"./../output/network.shp\")"
   ]
  },
  {
   "cell_type": "markdown",
   "metadata": {},
   "source": []
  },
  {
   "cell_type": "markdown",
   "metadata": {},
   "source": [
    "## Funiculars"
   ]
  },
  {
   "cell_type": "code",
   "execution_count": null,
   "metadata": {},
   "outputs": [],
   "source": [
    "\n",
    "fun = exp.Exporter(\"funicular\",'../../pop10k-eh4-qsim2-100it/output_network.xml.gz')\n",
    "fun.export_agents(chunk_size=500, format='shp',parallel=True)\n",
    "del fun"
   ]
  },
  {
   "cell_type": "markdown",
   "metadata": {},
   "source": [
    "## Buses"
   ]
  },
  {
   "cell_type": "code",
   "execution_count": null,
   "metadata": {},
   "outputs": [],
   "source": [
    "bus = exp.Exporter(\"bus\",'../../pop10k-eh4-qsim2-100it/output_network.xml.gz')\n",
    "bus.export_agents(chunk_size=500, format='shp',parallel=True)\n",
    "del bus"
   ]
  },
  {
   "cell_type": "markdown",
   "metadata": {},
   "source": [
    "## Cars"
   ]
  },
  {
   "cell_type": "code",
   "execution_count": null,
   "metadata": {},
   "outputs": [],
   "source": [
    "car = exp.Exporter(\"car\",'../../pop10k-eh4-qsim2-100it/output_network.xml.gz')\n",
    "car.export_agents(chunk_size=500, format='shp',parallel=True)\n",
    "del car"
   ]
  },
  {
   "cell_type": "markdown",
   "metadata": {},
   "source": [
    "## Subways\n"
   ]
  },
  {
   "cell_type": "code",
   "execution_count": null,
   "metadata": {},
   "outputs": [],
   "source": [
    "subway = exp.Exporter(\"subway\",'../../pop10k-eh4-qsim2-100it/output_network.xml.gz')\n",
    "subway.export_agents(chunk_size=500, format='shp',parallel=True) #2:30\n",
    "del subway"
   ]
  },
  {
   "cell_type": "markdown",
   "metadata": {},
   "source": [
    "## Trams"
   ]
  },
  {
   "cell_type": "code",
   "execution_count": null,
   "metadata": {},
   "outputs": [],
   "source": [
    "tram = exp.Exporter(\"tram\",'../../pop10k-eh4-qsim2-100it/output_network.xml.gz')\n",
    "tram.export_agents(chunk_size=1000, format='shp',parallel=True)\n",
    "del tram"
   ]
  },
  {
   "cell_type": "code",
   "execution_count": null,
   "metadata": {},
   "outputs": [],
   "source": [
    "\n"
   ]
  },
  {
   "cell_type": "code",
   "execution_count": null,
   "metadata": {},
   "outputs": [],
   "source": []
  },
  {
   "cell_type": "code",
   "execution_count": null,
   "metadata": {},
   "outputs": [],
   "source": []
  },
  {
   "cell_type": "code",
   "execution_count": null,
   "metadata": {},
   "outputs": [],
   "source": []
  },
  {
   "cell_type": "code",
   "execution_count": null,
   "metadata": {},
   "outputs": [],
   "source": []
  }
 ],
 "metadata": {
  "interpreter": {
   "hash": "b4d000ebc1070b3c4f02c761be1e96128dc18de4056499f92a4920e8dfd6dfe9"
  },
  "kernelspec": {
   "display_name": "Python 3.9.6 64-bit ('3.9.6': pyenv)",
   "name": "python3"
  },
  "language_info": {
   "codemirror_mode": {
    "name": "ipython",
    "version": 3
   },
   "file_extension": ".py",
   "mimetype": "text/x-python",
   "name": "python",
   "nbconvert_exporter": "python",
   "pygments_lexer": "ipython3",
   "version": "3.9.6"
  },
  "orig_nbformat": 4
 },
 "nbformat": 4,
 "nbformat_minor": 2
}
