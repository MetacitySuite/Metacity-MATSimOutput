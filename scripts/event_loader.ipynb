{
 "cells": [
  {
   "cell_type": "code",
   "execution_count": 2,
   "metadata": {},
   "outputs": [],
   "source": [
    "import pandas as pd\n",
    "import xml.etree.ElementTree as ET\n",
    "import gzip\n",
    "import os\n",
    "import shutil\n",
    "\n",
    "pd.set_option('display.max_columns', None)\n",
    "\n",
    "xml_path = \"../../pop100k-eh16-qsim4-100it/output_events.xml.gz\"\n",
    "output_path = \"./../output/population/\""
   ]
  },
  {
   "cell_type": "markdown",
   "metadata": {},
   "source": [
    "# Loading travel events \n",
    "\n",
    "Loaded from MATSim output_events.xml\n",
    "\n",
    "* xml_path - path to unzipped file\n",
    "* output_path - folder for CSV files\n",
    "* chunk_size - number of events in single CSV file\n",
    "* el_tag - XML tag that is being read"
   ]
  },
  {
   "cell_type": "code",
   "execution_count": 3,
   "metadata": {},
   "outputs": [],
   "source": [
    "def load_population_CSV(xml_path, output_path, chunk_size=10e6, el_tag=\"event\"):\n",
    "    chunk_i=0\n",
    "    dict_list = []\n",
    "    elem_count = 0\n",
    "\n",
    "    if(xml_path.split('.')[-1] == \"gz\"):\n",
    "        source = gzip.open(xml_path)\n",
    "    else: source = xml_path\n",
    "\n",
    "    for _, elem in ET.iterparse(source, events=(\"end\",)):\n",
    "        if elem.tag == el_tag:\n",
    "            dict_list.append(elem.attrib)      #PARSE ALL ATTRIBUTES\n",
    "            elem.clear()\n",
    "            elem_count +=1\n",
    "\n",
    "        if(elem_count % chunk_size == 0):\n",
    "            df = pd.DataFrame(dict_list)\n",
    "            dict_list = []\n",
    "            df.to_csv(output_path+str(chunk_i)+\".csv\")\n",
    "            del df\n",
    "            chunk_i +=1\n",
    "    \n",
    "    #print(\"Saving chunk:\", chunk_i)\n",
    "    df = pd.DataFrame(dict_list)\n",
    "    df.to_csv(output_path+str(chunk_i)+\".csv\")\n",
    "    del df\n",
    "    return print(\"CSV files saved to:\", output_path, chunk_i+1,\"files\")"
   ]
  },
  {
   "cell_type": "code",
   "execution_count": 4,
   "metadata": {},
   "outputs": [
    {
     "name": "stdout",
     "output_type": "stream",
     "text": [
      "CSV files saved to: ./../output/population/ 6 files\n"
     ]
    }
   ],
   "source": [
    "if not os.path.exists(output_path):\n",
    "    os.makedirs(output_path)\n",
    "else:\n",
    "    shutil.rmtree(output_path)\n",
    "    os.makedirs(output_path)\n",
    "\n",
    "load_population_CSV(xml_path, output_path, chunk_size=1.5*10e6, el_tag=\"event\")"
   ]
  },
  {
   "cell_type": "code",
   "execution_count": null,
   "metadata": {},
   "outputs": [],
   "source": []
  }
 ],
 "metadata": {
  "interpreter": {
   "hash": "b4d000ebc1070b3c4f02c761be1e96128dc18de4056499f92a4920e8dfd6dfe9"
  },
  "kernelspec": {
   "display_name": "Python 3.9.6 64-bit ('3.9.6': pyenv)",
   "name": "python3"
  },
  "language_info": {
   "codemirror_mode": {
    "name": "ipython",
    "version": 3
   },
   "file_extension": ".py",
   "mimetype": "text/x-python",
   "name": "python",
   "nbconvert_exporter": "python",
   "pygments_lexer": "ipython3",
   "version": "3.9.5"
  },
  "orig_nbformat": 4
 },
 "nbformat": 4,
 "nbformat_minor": 2
}
