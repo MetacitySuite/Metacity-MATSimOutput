{
 "cells": [
  {
   "cell_type": "code",
   "execution_count": 21,
   "metadata": {},
   "outputs": [],
   "source": [
    "import pandas as pd\n",
    "import numpy as np\n",
    "import xml.etree.ElementTree as ET\n",
    "import os\n",
    "import shutil\n",
    "import json\n",
    "import warnings\n",
    "from multiprocessing import Pool\n",
    "from datetime import datetime\n",
    "import gc"
   ]
  },
  {
   "cell_type": "code",
   "execution_count": 22,
   "metadata": {},
   "outputs": [],
   "source": [
    "pd.set_option('display.max_columns', None)\n",
    "warnings.filterwarnings('ignore')"
   ]
  },
  {
   "cell_type": "code",
   "execution_count": 23,
   "metadata": {},
   "outputs": [],
   "source": [
    "output_path = \"./../output/population/\"\n",
    "agents_path = \"./../output/agents/\"\n",
    "events_path = \"./../output/events/\"\n",
    "\n",
    "def clear_directory(directory):\n",
    "    if not os.path.exists(directory):\n",
    "        os.makedirs(directory)\n",
    "    else:\n",
    "        shutil.rmtree(directory)\n",
    "        os.makedirs(directory)\n",
    "\n",
    "clear_directory(events_path)\n",
    "\n",
    "CHUNK_SIZE = 250"
   ]
  },
  {
   "cell_type": "code",
   "execution_count": 24,
   "metadata": {},
   "outputs": [],
   "source": [
    "def concat_files(args):\n",
    "    path, files, chunk_i, agent_type = args\n",
    "    df = pd.DataFrame()\n",
    "    chunk_map = {}\n",
    "    if(agent_type != \"agent\"):\n",
    "        ids = [f.split('/')[-1].split('.')[0] for f in files] #stracting ids\n",
    "        for i in ids:\n",
    "            chunk_map[i] = chunk_i\n",
    "\n",
    "    for file in files:\n",
    "        # load file_chunks\n",
    "        agent = pd.read_json(path+file, lines=True, orient='records')\n",
    "        df = df.append(agent)\n",
    "\n",
    "    # save to file\n",
    "    del agent\n",
    "    if not os.path.exists(events_path+agent_type):\n",
    "        os.makedirs(events_path+agent_type)\n",
    "        \n",
    "    df.to_json(events_path+agent_type+\"/\"+str(chunk_i)+\".json\", lines=True, orient='records') \n",
    "    del df\n",
    "    return chunk_map\n",
    "        "
   ]
  },
  {
   "cell_type": "code",
   "execution_count": 25,
   "metadata": {},
   "outputs": [],
   "source": [
    "folders = os.listdir(agents_path)\n",
    "\n",
    "for agent_type in folders:\n",
    "    files = np.array(os.listdir(agents_path+agent_type))\n",
    "    transport_map = {}\n",
    "\n",
    "    chunks_num = len(files) / CHUNK_SIZE\n",
    "    if(len(files) % CHUNK_SIZE > 0):\n",
    "        chunks_num += 1\n",
    "    file_chunks = np.array_split(files, chunks_num)\n",
    "\n",
    "    args = list()\n",
    "    for i,f in enumerate(file_chunks):\n",
    "        args.append([agents_path+agent_type+\"/\",f,i, agent_type])\n",
    "\n",
    "\n",
    "    with Pool(int(min(chunks_num, os.cpu_count()))) as pool:\n",
    "        results = pool.map(concat_files, args)\n",
    "\n",
    "    pool.close()\n",
    "    pool.join()\n",
    "\n",
    "    if(agent_type != \"agent\"):\n",
    "        # concat results\n",
    "        for r in results:\n",
    "            transport_map.update(r)\n",
    "        # save transport map\n",
    "        with open(events_path+agent_type+'_map.json', 'w') as f:\n",
    "            json.dump(transport_map,f)\n"
   ]
  },
  {
   "cell_type": "code",
   "execution_count": null,
   "metadata": {},
   "outputs": [],
   "source": []
  },
  {
   "cell_type": "code",
   "execution_count": null,
   "metadata": {},
   "outputs": [],
   "source": []
  }
 ],
 "metadata": {
  "interpreter": {
   "hash": "30f0103485fa261618a8c595a0abf0368cef3d01076c0a3e06f386f93a4f7fa5"
  },
  "kernelspec": {
   "display_name": "Python 3.9.5 64-bit ('venv': venv)",
   "language": "python",
   "name": "python3"
  },
  "language_info": {
   "codemirror_mode": {
    "name": "ipython",
    "version": 3
   },
   "file_extension": ".py",
   "mimetype": "text/x-python",
   "name": "python",
   "nbconvert_exporter": "python",
   "pygments_lexer": "ipython3",
   "version": "3.9.5"
  },
  "orig_nbformat": 4
 },
 "nbformat": 4,
 "nbformat_minor": 2
}
