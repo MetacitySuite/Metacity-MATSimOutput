{
 "cells": [
  {
   "cell_type": "code",
   "execution_count": 1,
   "metadata": {},
   "outputs": [],
   "source": [
    "import exporter as exp\n",
    "import os\n",
    "CARS = \"cars_only\"\n",
    "ALL = \"all_transport\"\n",
    "path=\"../../pop10k-eh16-qsim4-100it/\"\n",
    "\n",
    "def export_vehicle(agent_type, network_path = path+'output_network.xml.gz', format = \"json\", parallel=True, export_mode=ALL, proc=os.cpu_count()):\n",
    "    vehicle = exp.Exporter(agent_type, network_path, export_mode)\n",
    "    vehicle.export_agents(format=format, parallel=parallel, proc=proc)\n"
   ]
  },
  {
   "cell_type": "code",
   "execution_count": null,
   "metadata": {},
   "outputs": [],
   "source": [
    "export_vehicle(\"subway\")"
   ]
  },
  {
   "cell_type": "code",
   "execution_count": 2,
   "metadata": {},
   "outputs": [],
   "source": [
    "network_path = path+'output_network.xml.gz'\n",
    "agent = exp.Exporter(\"agent\", network_path, CARS)\n",
    "agent.export_agents()"
   ]
  },
  {
   "cell_type": "code",
   "execution_count": null,
   "metadata": {},
   "outputs": [],
   "source": [
    "export_vehicle(\"funicular\")"
   ]
  },
  {
   "cell_type": "code",
   "execution_count": null,
   "metadata": {},
   "outputs": [],
   "source": [
    "export_vehicle(\"car\")"
   ]
  },
  {
   "cell_type": "code",
   "execution_count": null,
   "metadata": {},
   "outputs": [],
   "source": [
    "export_vehicle(\"tram\")"
   ]
  },
  {
   "cell_type": "code",
   "execution_count": null,
   "metadata": {},
   "outputs": [],
   "source": [
    "\n",
    "export_vehicle(\"bus\")"
   ]
  },
  {
   "cell_type": "code",
   "execution_count": null,
   "metadata": {},
   "outputs": [],
   "source": [
    "import network as net\n",
    "network = net.Network()\n",
    "\n",
    "network.set_path(path+'output_network.xml.gz')\n",
    "network.load_nodes()\n",
    "network.load_links()\n",
    "network.join_network()\n",
    "network.status()\n",
    "display(network.net.head())\n",
    "network.export_shp(\"./../output/network.shp\")"
   ]
  },
  {
   "cell_type": "markdown",
   "metadata": {},
   "source": []
  },
  {
   "cell_type": "code",
   "execution_count": null,
   "metadata": {},
   "outputs": [],
   "source": []
  }
 ],
 "metadata": {
  "interpreter": {
   "hash": "b4d000ebc1070b3c4f02c761be1e96128dc18de4056499f92a4920e8dfd6dfe9"
  },
  "kernelspec": {
   "display_name": "Python 3 (ipykernel)",
   "language": "python",
   "name": "python3"
  },
  "language_info": {
   "codemirror_mode": {
    "name": "ipython",
    "version": 3
   },
   "file_extension": ".py",
   "mimetype": "text/x-python",
   "name": "python",
   "nbconvert_exporter": "python",
   "pygments_lexer": "ipython3",
   "version": "3.9.5"
  }
 },
 "nbformat": 4,
 "nbformat_minor": 4
}
