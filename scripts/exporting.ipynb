{
 "cells": [
  {
   "cell_type": "code",
   "execution_count": null,
   "metadata": {},
   "outputs": [],
   "source": [
    "from loader import EventLoader\n",
    "from parser import EventParser\n",
    "from chunker import Chunker\n",
    "from exporter import Exporter\n",
    "import os\n",
    "\n",
    "CARS = \"cars_only\"\n",
    "ALL = \"all_transport\"\n",
    "ALL_WALK = \"all_with_walk\""
   ]
  },
  {
   "cell_type": "code",
   "execution_count": null,
   "metadata": {},
   "outputs": [],
   "source": [
    "\n",
    "xml_path = \"../../pop100k-eh16-qsim4-100it/output_events.xml.gz\"\n",
    "network_path = \"../../pop100k-eh16-qsim4-100it/output_network.xml.gz\"\n",
    "vehicle_types = []\n"
   ]
  },
  {
   "cell_type": "code",
   "execution_count": null,
   "metadata": {},
   "outputs": [],
   "source": [
    "def load_population():\n",
    "    loader = EventLoader(xml_path=xml_path)\n",
    "    loader.load_population_CSV(chunk_size=1.5*10e6)\n",
    "\n",
    "    parser = EventParser(csv_files=loader.gather_CSV_files())\n",
    "    parser()\n",
    "\n",
    "    chunker = Chunker()\n",
    "    chunker(chunk_size=500)\n",
    "\n",
    "\n",
    "def load_new_chunks(chunk: int):\n",
    "    chunker = Chunker()\n",
    "    chunker(chunk_size=chunk)\n",
    "    \n",
    "\n",
    "def export_agents(export_mode):\n",
    "    exporter = Exporter(\"agent\", network_path=network_path, export_mode=export_mode)\n",
    "    exporter.export_agents(format = 'json', parallel=True, proc=os.cpu_count())\n",
    "    del exporter\n",
    "\n",
    "def export_vehicles(vehicle_types):\n",
    "    for veh_type in vehicle_types:\n",
    "        exporter = Exporter(veh_type, network_path=network_path, export_mode=ALL)\n",
    "        exporter.export_agents(format = 'json', parallel=True, proc=os.cpu_count())\n",
    "\n",
    "    del exporter"
   ]
  },
  {
   "cell_type": "code",
   "execution_count": null,
   "metadata": {},
   "outputs": [],
   "source": [
    "load_new_chunks(10) #"
   ]
  },
  {
   "cell_type": "code",
   "execution_count": null,
   "metadata": {},
   "outputs": [],
   "source": [
    "#export_agents(CARS) #208 min"
   ]
  },
  {
   "cell_type": "code",
   "execution_count": null,
   "metadata": {},
   "outputs": [],
   "source": [
    "export_vehicles([\"subway\"]) #3 min"
   ]
  },
  {
   "cell_type": "code",
   "execution_count": null,
   "metadata": {},
   "outputs": [],
   "source": [
    "export_vehicles([\"car\"]) #55 min"
   ]
  },
  {
   "cell_type": "code",
   "execution_count": null,
   "metadata": {},
   "outputs": [],
   "source": [
    "export_vehicles([\"bus\"])"
   ]
  },
  {
   "cell_type": "code",
   "execution_count": null,
   "metadata": {},
   "outputs": [],
   "source": [
    "export_vehicles([\"bus\", \"tram\"]) #27 min"
   ]
  },
  {
   "cell_type": "code",
   "execution_count": null,
   "metadata": {},
   "outputs": [],
   "source": []
  }
 ],
 "metadata": {
  "interpreter": {
   "hash": "30f0103485fa261618a8c595a0abf0368cef3d01076c0a3e06f386f93a4f7fa5"
  },
  "kernelspec": {
   "display_name": "Python 3.9.5 64-bit ('venv': venv)",
   "language": "python",
   "name": "python3"
  },
  "language_info": {
   "codemirror_mode": {
    "name": "ipython",
    "version": 3
   },
   "file_extension": ".py",
   "mimetype": "text/x-python",
   "name": "python",
   "nbconvert_exporter": "python",
   "pygments_lexer": "ipython3",
   "version": "3.9.5"
  },
  "orig_nbformat": 4
 },
 "nbformat": 4,
 "nbformat_minor": 2
}
