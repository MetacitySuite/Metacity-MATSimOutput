{
 "cells": [
  {
   "cell_type": "code",
   "execution_count": 8,
   "metadata": {},
   "outputs": [],
   "source": [
    "from loader import EventLoader\n",
    "from chunker import Chunker\n",
    "from eparser import EventParser\n",
    "from exporter import Exporter\n",
    "from network import Network\n",
    "import os"
   ]
  },
  {
   "cell_type": "code",
   "execution_count": 9,
   "metadata": {},
   "outputs": [],
   "source": [
    "CARS = \"cars_only\"\n",
    "ALL = \"all_transport\"\n",
    "ALL_WALK = \"all_with_walk\""
   ]
  },
  {
   "cell_type": "code",
   "execution_count": 10,
   "metadata": {},
   "outputs": [],
   "source": [
    "\n",
    "#xml_path = \"../../pop100k-eh16-qsim4-100it/output_events.xml.gz\"\n",
    "#network_path = \"../../pop100k-eh16-qsim4-100it/output_network.xml.gz\"\n",
    "xml_path = \"../../pop-10pct-100it/output_events.xml.gz\"\n",
    "network_path = \"../../pop-10pct-100it/output_network.xml.gz\"\n",
    "vehicle_types = []"
   ]
  },
  {
   "cell_type": "code",
   "execution_count": 11,
   "metadata": {},
   "outputs": [],
   "source": [
    "def load_population(event_size=1.5*10e6):\n",
    "    print(\"Loading population:\")\n",
    "    loader = EventLoader(xml_path=xml_path)\n",
    "    loader.load_population_CSV(chunk_size=event_size)\n",
    "\n",
    "    print(\"Parsing agents:\")\n",
    "    parser = EventParser(csv_files=loader.gather_CSV_files())\n",
    "    parser()\n",
    "    print(\"Agents parsed.\")\n",
    "\n",
    "    chunker = Chunker()\n",
    "    chunker(chunk_size=500)\n",
    "\n",
    "def parse_population():\n",
    "    loader = EventLoader(xml_path=xml_path)\n",
    "    print(\"Parsing agents:\")\n",
    "    parser = EventParser(csv_files=loader.gather_CSV_files())\n",
    "    parser()\n",
    "    print(\"Agents parsed.\")\n",
    "\n",
    "\n",
    "def load_new_chunks(chunk: int):\n",
    "    chunker = Chunker()\n",
    "    chunker(chunk_size=chunk)\n",
    "    \n",
    "\n",
    "def export_agents(export_mode):\n",
    "    exporter = Exporter(\"agent\", network_path=network_path, export_mode=export_mode)\n",
    "    exporter.export_agents(format = 'json', parallel=False, proc=os.cpu_count())\n",
    "    del exporter\n",
    "\n",
    "def export_vehicles(vehicle_types):\n",
    "    for veh_type in vehicle_types:\n",
    "        exporter = Exporter(veh_type, network_path=network_path, export_mode=ALL)\n",
    "        exporter.export_agents(format = 'json', parallel=True, proc=os.cpu_count())\n",
    "\n",
    "    del exporter"
   ]
  },
  {
   "cell_type": "code",
   "execution_count": 12,
   "metadata": {},
   "outputs": [
    {
     "name": "stdout",
     "output_type": "stream",
     "text": [
      "Loading population:\n"
     ]
    },
    {
     "ename": "KeyboardInterrupt",
     "evalue": "",
     "output_type": "error",
     "traceback": [
      "\u001b[0;31m---------------------------------------------------------------------------\u001b[0m",
      "\u001b[0;31mKeyboardInterrupt\u001b[0m                         Traceback (most recent call last)",
      "\u001b[0;32m/tmp/ipykernel_69788/1817868574.py\u001b[0m in \u001b[0;36m<module>\u001b[0;34m\u001b[0m\n\u001b[0;32m----> 1\u001b[0;31m \u001b[0mload_population\u001b[0m\u001b[0;34m(\u001b[0m\u001b[0mevent_size\u001b[0m\u001b[0;34m=\u001b[0m\u001b[0;36m1.5\u001b[0m\u001b[0;34m*\u001b[0m\u001b[0;36m10e6\u001b[0m\u001b[0;34m)\u001b[0m \u001b[0;31m# ~3hod for agents and cars\u001b[0m\u001b[0;34m\u001b[0m\u001b[0;34m\u001b[0m\u001b[0m\n\u001b[0m\u001b[1;32m      2\u001b[0m \u001b[0;31m#parse_population()\u001b[0m\u001b[0;34m\u001b[0m\u001b[0;34m\u001b[0m\u001b[0;34m\u001b[0m\u001b[0m\n",
      "\u001b[0;32m/tmp/ipykernel_69788/1067582607.py\u001b[0m in \u001b[0;36mload_population\u001b[0;34m(event_size)\u001b[0m\n\u001b[1;32m      2\u001b[0m     \u001b[0mprint\u001b[0m\u001b[0;34m(\u001b[0m\u001b[0;34m\"Loading population:\"\u001b[0m\u001b[0;34m)\u001b[0m\u001b[0;34m\u001b[0m\u001b[0;34m\u001b[0m\u001b[0m\n\u001b[1;32m      3\u001b[0m     \u001b[0mloader\u001b[0m \u001b[0;34m=\u001b[0m \u001b[0mEventLoader\u001b[0m\u001b[0;34m(\u001b[0m\u001b[0mxml_path\u001b[0m\u001b[0;34m=\u001b[0m\u001b[0mxml_path\u001b[0m\u001b[0;34m)\u001b[0m\u001b[0;34m\u001b[0m\u001b[0;34m\u001b[0m\u001b[0m\n\u001b[0;32m----> 4\u001b[0;31m     \u001b[0mloader\u001b[0m\u001b[0;34m.\u001b[0m\u001b[0mload_population_CSV\u001b[0m\u001b[0;34m(\u001b[0m\u001b[0mchunk_size\u001b[0m\u001b[0;34m=\u001b[0m\u001b[0mevent_size\u001b[0m\u001b[0;34m)\u001b[0m\u001b[0;34m\u001b[0m\u001b[0;34m\u001b[0m\u001b[0m\n\u001b[0m\u001b[1;32m      5\u001b[0m \u001b[0;34m\u001b[0m\u001b[0m\n\u001b[1;32m      6\u001b[0m     \u001b[0mprint\u001b[0m\u001b[0;34m(\u001b[0m\u001b[0;34m\"Parsing agents:\"\u001b[0m\u001b[0;34m)\u001b[0m\u001b[0;34m\u001b[0m\u001b[0;34m\u001b[0m\u001b[0m\n",
      "\u001b[0;32m~/anicka/Metacity-MATSimOutput/scripts/loader.py\u001b[0m in \u001b[0;36mload_population_CSV\u001b[0;34m(self, chunk_size, el_tag)\u001b[0m\n\u001b[1;32m     94\u001b[0m \u001b[0;34m\u001b[0m\u001b[0m\n\u001b[1;32m     95\u001b[0m             \u001b[0;32mif\u001b[0m\u001b[0;34m(\u001b[0m\u001b[0melem_count\u001b[0m \u001b[0;34m%\u001b[0m \u001b[0mchunk_size\u001b[0m \u001b[0;34m==\u001b[0m \u001b[0;36m0\u001b[0m\u001b[0;34m)\u001b[0m\u001b[0;34m:\u001b[0m\u001b[0;34m\u001b[0m\u001b[0;34m\u001b[0m\u001b[0m\n\u001b[0;32m---> 96\u001b[0;31m                 \u001b[0mdf\u001b[0m \u001b[0;34m=\u001b[0m \u001b[0mpd\u001b[0m\u001b[0;34m.\u001b[0m\u001b[0mDataFrame\u001b[0m\u001b[0;34m(\u001b[0m\u001b[0mdict_list\u001b[0m\u001b[0;34m)\u001b[0m\u001b[0;34m\u001b[0m\u001b[0;34m\u001b[0m\u001b[0m\n\u001b[0m\u001b[1;32m     97\u001b[0m                 \u001b[0mdict_list\u001b[0m \u001b[0;34m=\u001b[0m \u001b[0;34m[\u001b[0m\u001b[0;34m]\u001b[0m\u001b[0;34m\u001b[0m\u001b[0;34m\u001b[0m\u001b[0m\n\u001b[1;32m     98\u001b[0m                 \u001b[0mdf\u001b[0m\u001b[0;34m.\u001b[0m\u001b[0mto_csv\u001b[0m\u001b[0;34m(\u001b[0m\u001b[0mself\u001b[0m\u001b[0;34m.\u001b[0m\u001b[0mcsv_path\u001b[0m\u001b[0;34m+\u001b[0m\u001b[0mstr\u001b[0m\u001b[0;34m(\u001b[0m\u001b[0mchunk_i\u001b[0m\u001b[0;34m)\u001b[0m\u001b[0;34m+\u001b[0m\u001b[0;34m\".csv\"\u001b[0m\u001b[0;34m)\u001b[0m\u001b[0;34m\u001b[0m\u001b[0;34m\u001b[0m\u001b[0m\n",
      "\u001b[0;31mKeyboardInterrupt\u001b[0m: "
     ]
    }
   ],
   "source": [
    "load_population(event_size=1.5*10e6) # ~3hod for agents and cars\n",
    "#parse_population()"
   ]
  },
  {
   "cell_type": "code",
   "execution_count": null,
   "metadata": {},
   "outputs": [],
   "source": [
    "#load_new_chunks(500) #cars and agents 100k : 1m20s, all : 2min"
   ]
  },
  {
   "cell_type": "code",
   "execution_count": null,
   "metadata": {},
   "outputs": [],
   "source": [
    "export_agents(ALL) #100k = 208 min (cars)"
   ]
  },
  {
   "cell_type": "code",
   "execution_count": null,
   "metadata": {},
   "outputs": [],
   "source": [
    "export_vehicles([\"subway\"]) #3 min"
   ]
  },
  {
   "cell_type": "code",
   "execution_count": null,
   "metadata": {},
   "outputs": [],
   "source": [
    "export_vehicles([\"funicular\"])"
   ]
  },
  {
   "cell_type": "code",
   "execution_count": null,
   "metadata": {},
   "outputs": [],
   "source": [
    "#export_vehicles([\"car\"]) #100k pop = 55 min"
   ]
  },
  {
   "cell_type": "code",
   "execution_count": null,
   "metadata": {},
   "outputs": [],
   "source": [
    "export_vehicles([\"bus\"]) #20min"
   ]
  },
  {
   "cell_type": "code",
   "execution_count": null,
   "metadata": {},
   "outputs": [],
   "source": [
    "export_vehicles([\"tram\"]) #7 min"
   ]
  },
  {
   "cell_type": "code",
   "execution_count": null,
   "metadata": {},
   "outputs": [],
   "source": [
    "#n = Network()\n",
    "#n.set_path(network_path)\n",
    "#n.load_nodes()\n",
    "#n.load_links()\n",
    "#n.join_network()\n",
    "#n.status()\n",
    "#n.export_shp(\"../network.shp\")"
   ]
  }
 ],
 "metadata": {
  "interpreter": {
   "hash": "30f0103485fa261618a8c595a0abf0368cef3d01076c0a3e06f386f93a4f7fa5"
  },
  "kernelspec": {
   "display_name": "Python 3.9.5 64-bit ('venv': venv)",
   "language": "python",
   "name": "python3"
  },
  "language_info": {
   "codemirror_mode": {
    "name": "ipython",
    "version": 3
   },
   "file_extension": ".py",
   "mimetype": "text/x-python",
   "name": "python",
   "nbconvert_exporter": "python",
   "pygments_lexer": "ipython3",
   "version": "3.9.5"
  },
  "orig_nbformat": 4
 },
 "nbformat": 4,
 "nbformat_minor": 2
}
