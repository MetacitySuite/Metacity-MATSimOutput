{
 "cells": [
  {
   "cell_type": "code",
   "execution_count": 1,
   "metadata": {},
   "outputs": [],
   "source": [
    "import pandas as pd\n",
    "import numpy as np\n",
    "import xml.etree.ElementTree as ET\n",
    "import os\n",
    "import json\n",
    "import warnings\n",
    "warnings.filterwarnings('ignore')\n",
    "\n",
    "pd.set_option('display.max_columns', None)\n",
    "output_path = \"./../output/population/\""
   ]
  },
  {
   "cell_type": "markdown",
   "metadata": {},
   "source": [
    "# Loading events to separate tables\n",
    "* agents: people\n",
    "* vehicles:\n",
    "    * cars\n",
    "    * subway\n",
    "    * buses\n",
    "    * trams\n",
    "    * trains"
   ]
  },
  {
   "cell_type": "code",
   "execution_count": 2,
   "metadata": {},
   "outputs": [],
   "source": [
    "events = pd.DataFrame()\n",
    "\n",
    "dtypes = {\n",
    "    \"time\": np.float64,\n",
    "    \"type\": str,\n",
    "    \"driverId\": str,\n",
    "    \"vehicleId\": str,\n",
    "    \"transitLineId\": str,\n",
    "    \"transitRouteId\": str,\n",
    "    \"departureId\": str,\n",
    "    \"person\": str,\n",
    "    \"link\": str,\n",
    "    \"legMode\": 'category', #category\n",
    "    \"vehicle\": str,\n",
    "    \"networkMode\": str, #category\n",
    "    \"relativePosition\": np.float64,\n",
    "    \"facility\": str,\n",
    "    \"delay\": np.float64,\n",
    "    \"x\": np.float64,\n",
    "    \"y\": np.float64,\n",
    "    \"actType\": str,\n",
    "}\n",
    "\n",
    "#reading all events at once, will be an issue for 100k+ population\n",
    "for csv in os.listdir(output_path):\n",
    "    df = pd.read_csv(output_path+csv, dtype=dtypes)\n",
    "    events =events.append(df, ignore_index=True)"
   ]
  },
  {
   "cell_type": "code",
   "execution_count": 3,
   "metadata": {},
   "outputs": [
    {
     "name": "stdout",
     "output_type": "stream",
     "text": [
      "<class 'pandas.core.frame.DataFrame'>\n",
      "RangeIndex: 10639855 entries, 0 to 10639854\n",
      "Data columns (total 25 columns):\n",
      " #   Column                    Dtype  \n",
      "---  ------                    -----  \n",
      " 0   Unnamed: 0                int64  \n",
      " 1   time                      float64\n",
      " 2   type                      object \n",
      " 3   driverId                  object \n",
      " 4   vehicleId                 object \n",
      " 5   transitLineId             object \n",
      " 6   transitRouteId            object \n",
      " 7   departureId               object \n",
      " 8   person                    object \n",
      " 9   link                      object \n",
      " 10  legMode                   object \n",
      " 11  vehicle                   object \n",
      " 12  networkMode               object \n",
      " 13  relativePosition          float64\n",
      " 14  facility                  object \n",
      " 15  delay                     float64\n",
      " 16  x                         float64\n",
      " 17  y                         float64\n",
      " 18  actType                   object \n",
      " 19  computationalRoutingMode  object \n",
      " 20  distance                  float64\n",
      " 21  mode                      object \n",
      " 22  agent                     float64\n",
      " 23  atStop                    object \n",
      " 24  destinationStop           object \n",
      "dtypes: float64(7), int64(1), object(17)\n",
      "memory usage: 2.0+ GB\n"
     ]
    }
   ],
   "source": [
    "events.info()\n",
    "#events.describe()"
   ]
  },
  {
   "cell_type": "code",
   "execution_count": null,
   "metadata": {},
   "outputs": [],
   "source": [
    "events.legMode.value_counts()\n",
    "#events.facility.value_counts()"
   ]
  },
  {
   "cell_type": "code",
   "execution_count": null,
   "metadata": {},
   "outputs": [],
   "source": [
    "np.where(events.person == \"8\")"
   ]
  },
  {
   "cell_type": "code",
   "execution_count": null,
   "metadata": {},
   "outputs": [],
   "source": [
    "person = events.loc[np.where(events.person == 1.0)]\n",
    "#display(person.head(10))\n",
    "#person.iloc[np.where(person.legMode == \"walk\")]"
   ]
  },
  {
   "cell_type": "markdown",
   "metadata": {},
   "source": [
    "## Loading people to separate file"
   ]
  },
  {
   "cell_type": "code",
   "execution_count": 6,
   "metadata": {},
   "outputs": [
    {
     "data": {
      "text/plain": [
       "array([nan, '2451', '1083', ..., 'veh_2194_bus', 'veh_12613_bus',\n",
       "       'veh_23236_tram'], dtype=object)"
      ]
     },
     "execution_count": 6,
     "metadata": {},
     "output_type": "execute_result"
    }
   ],
   "source": [
    "agents = pd.DataFrame()\n",
    "agents =  events[pd.to_numeric(events['person'], errors='coerce').notnull()] # removes drivers\n",
    "agents.head()\n",
    "agents.vehicle.unique()"
   ]
  },
  {
   "cell_type": "code",
   "execution_count": 13,
   "metadata": {},
   "outputs": [],
   "source": [
    "\"\"\"\n",
    "people = [\n",
    "        {id: 1,\n",
    "        events: [\n",
    "                {event_id :,\n",
    "                 time: \n",
    "                 type:\n",
    "                 link:\n",
    "                 vehicle_id:\n",
    "                 delay:\n",
    "                 coords: [x,y]\n",
    "                 destination:  Act)\n",
    "                 }\n",
    "        ]}\n",
    "]\n",
    "\"\"\"\n",
    "\n",
    "def save_agents(persons, json_file, chunk_size=-1):\n",
    "    people = pd.DataFrame()\n",
    "    counter = 0\n",
    "    chunk_i = 0\n",
    "    for person in persons:\n",
    "        agent = pd.DataFrame(person[1])\n",
    "        agent_id = person[0]\n",
    "        agent = agent.sort_values(\"time\")\n",
    "        #print(\"Person Id:\", agent_id)\n",
    "        events = []\n",
    "        for id, row in agent.iterrows():\n",
    "            event = {}\n",
    "            event[\"event_id\"] = row[0]\n",
    "            event[\"time\"] = row[\"time\"]\n",
    "            event[\"type\"] = row[\"type\"]\n",
    "            event[\"link\"] = row[\"link\"]\n",
    "            event[\"vehicle_id\"] = row[\"vehicle\"]\n",
    "            event[\"delay\"] = row[\"delay\"]\n",
    "            event[\"actType\"] = row[\"actType\"]\n",
    "            event[\"legMode\"] = row[\"legMode\"]\n",
    "            event[\"coords_x\"] = row[\"x\"]\n",
    "            event[\"coords_y\"] = row[\"y\"]\n",
    "            events.append(event)\n",
    "\n",
    "        new_vehicle = pd.DataFrame(columns=['id','events'])\n",
    "        new_vehicle.loc[0,'id'] = agent_id\n",
    "        new_vehicle.loc[0,'events']  =  events\n",
    "        people = people.append(new_vehicle)\n",
    "\n",
    "        if(chunk_size != -1 and counter > 0 and counter % chunk_size == 0):\n",
    "            if not os.path.exists(json_file+\"/agent\"):\n",
    "                os.makedirs(json_file+\"/agent\")\n",
    "            \n",
    "            people.reset_index(drop=True, inplace=True)\n",
    "            people.to_json(json_file+\"/agent/\"+str(chunk_i)+\".json\", lines=True, orient='records') \n",
    "            people = pd.DataFrame()\n",
    "            chunk_i+=1\n",
    "\n",
    "        counter += 1\n",
    "        \n",
    "\n",
    "    people.reset_index(drop=True, inplace=True)\n",
    "    if(chunk_size == -1):\n",
    "        people.to_json(json_file+\"/agent.json\", lines=True, orient='records')\n",
    "    else:  \n",
    "        people.to_json(json_file+\"/agent/\"+str(chunk_i)+\".json\", lines=True, orient='records') \n",
    "\n",
    "        \n",
    "    print(\"People save to:\", json_file)"
   ]
  },
  {
   "cell_type": "code",
   "execution_count": 14,
   "metadata": {},
   "outputs": [
    {
     "name": "stdout",
     "output_type": "stream",
     "text": [
      "People save to: ./../output/events\n"
     ]
    }
   ],
   "source": [
    "save_agents(agents.groupby(\"person\"), json_file = \"./../output/events\", chunk_size=500)"
   ]
  },
  {
   "cell_type": "markdown",
   "metadata": {},
   "source": [
    "## Loading vehicle events to separate files\n",
    "\n",
    "- cars\n",
    "- subway\n",
    "- buses\n",
    "- trams\n",
    "- trains\n",
    "- ferry\n",
    "- funicular\n"
   ]
  },
  {
   "cell_type": "code",
   "execution_count": 15,
   "metadata": {},
   "outputs": [],
   "source": [
    "def save_vehicle(vehicle_events, json_file, vehicle_type = \"\", chunk_size=-1):\n",
    "    vehicles = pd.DataFrame()\n",
    "    counter = 0\n",
    "    chunk_i = 0\n",
    "    for agent in vehicle_events:\n",
    "        vehicle = pd.DataFrame(agent[1])\n",
    "        vehicle = vehicle.sort_values(\"time\")\n",
    "        events = []\n",
    "        if(vehicle_type == \"car\"):\n",
    "            vehicle_id = int(vehicle.vehicle.unique()[0])\n",
    "        else:\n",
    "            vehicle_id = vehicle.vehicle.unique()[0]\n",
    "\n",
    "        #parse events\n",
    "        for id, row in vehicle.iterrows():\n",
    "            event = {}\n",
    "            event[\"event_id\"] = row[0]\n",
    "            event[\"time\"] = row[\"time\"]\n",
    "            event[\"type\"] = row[\"type\"]\n",
    "            event[\"link\"] = row[\"link\"]\n",
    "            event[\"person_id\"] = row[\"person\"]\n",
    "            event[\"delay\"] = row[\"delay\"]\n",
    "            event[\"facility\"] = row['facility']\n",
    "            #if facility, parse out link\n",
    "            #print(type(row['facility']))\n",
    "            if isinstance(row['facility'],str): #and not(np.isnan(row['facility'])):\n",
    "                #print(\"filling link\", row['facility'],row['facility'].split(\":\")[-1])\n",
    "                event['link'] = row['facility'].split(\":\")[-1]\n",
    "                #return\n",
    "            event[\"networkMode\"] = row['networkMode']\n",
    "            event[\"relativePosition\"] = row['relativePosition']\n",
    "            event[\"actType\"] = row[\"actType\"]\n",
    "            event[\"legMode\"] = row[\"legMode\"]\n",
    "            event[\"coords_x\"] = row[\"x\"]\n",
    "            event[\"coords_y\"] = row[\"y\"]\n",
    "\n",
    "            if(vehicle_type != \"car\"):\n",
    "                if(event[\"type\"] == \"TransitDriverStarts\"):\n",
    "                    #print(\"Driver starts\")\n",
    "                    event[\"transitLine\"] = row['transitLineId']\n",
    "                    event[\"transitRoute\"] = row['transitRouteId'] ## add to output\n",
    "                event[\"departure\"] = row['departureId']\n",
    "                event[\"atStop\"] = row[\"atStop\"]\n",
    "                event[\"destinationStop\"] = row[\"destinationStop\"]\n",
    "\n",
    "            events.append(event)\n",
    "            \n",
    "\n",
    "        new_vehicle = pd.DataFrame(columns=['id','events'])\n",
    "        new_vehicle.loc[0,'id'] = vehicle_id\n",
    "        new_vehicle.loc[0,'events']  =  events\n",
    "        vehicles = vehicles.append(new_vehicle)\n",
    "        vehicles.reset_index(drop=True, inplace=True)\n",
    "        if(chunk_size != -1 and counter > 0 and counter % chunk_size == 0):\n",
    "            if not os.path.exists(json_file+\"/\"+vehicle_type):\n",
    "                os.makedirs(json_file+\"/\"+vehicle_type)\n",
    "            vehicles.to_json(json_file+\"/\"+vehicle_type+\"/\"+str(chunk_i)+\".json\", lines=True, orient='records') \n",
    "            vehicles = pd.DataFrame()\n",
    "            chunk_i+=1\n",
    "\n",
    "        counter += 1\n",
    "\n",
    "    vehicles.reset_index(drop=True, inplace=True)\n",
    "    if(chunk_size == -1):\n",
    "        vehicles.to_json(json_file+\"/\"+vehicle_type+\".json\", lines=True, orient='records')  \n",
    "    else:\n",
    "        vehicles.to_json(json_file+\"/\"+vehicle_type+\"/\"+str(chunk_i)+\".json\", lines=True, orient='records') \n",
    "        \n",
    "    del vehicles \n"
   ]
  },
  {
   "cell_type": "code",
   "execution_count": 16,
   "metadata": {},
   "outputs": [],
   "source": [
    "vehicle_types = [\"car\",\"funicular\",\"ferry\",\"subway\",\"rail\",\"tram\",\"bus\"]\n",
    "\n",
    "def filter_vehicle_events(events, vehicle_type, json_path=\"./../output/events\"):\n",
    "    from datetime import datetime\n",
    "    print(\"Started filtering:\",vehicle_type, \"at\", datetime.now())\n",
    "    vehicles = pd.DataFrame()\n",
    "    if vehicle_type == 'car':\n",
    "        vehicles = events[pd.to_numeric(events['vehicle'], errors='coerce').notnull()]\n",
    "    else:\n",
    "        vehicles = events.loc[events['vehicle'].str.contains(vehicle_type, case=False)]\n",
    "        driver_events = events[events['vehicleId'].notnull() & events['vehicleId'].str.contains(vehicle_type, case=False)]\n",
    "        driver_events['vehicle'] = driver_events['vehicleId']\n",
    "        vehicles = vehicles.append(driver_events)\n",
    "\n",
    "    save_vehicle(vehicles.groupby(\"vehicle\"), json_file = json_path, vehicle_type=vehicle_type, chunk_size=500)\n",
    "    return print(\"Saved vehicle type:\",vehicle_type, \"to\", json_path, \"at\", datetime.now())\n",
    "        "
   ]
  },
  {
   "cell_type": "code",
   "execution_count": 18,
   "metadata": {},
   "outputs": [
    {
     "name": "stdout",
     "output_type": "stream",
     "text": [
      "Started filtering: bus at 2021-11-16 12:06:26.124477\n"
     ]
    },
    {
     "ename": "KeyboardInterrupt",
     "evalue": "",
     "output_type": "error",
     "traceback": [
      "\u001b[1;31m---------------------------------------------------------------------------\u001b[0m",
      "\u001b[1;31mKeyboardInterrupt\u001b[0m                         Traceback (most recent call last)",
      "\u001b[1;32m~\\AppData\\Local\\Temp/ipykernel_7064/270733398.py\u001b[0m in \u001b[0;36m<module>\u001b[1;34m\u001b[0m\n\u001b[0;32m      1\u001b[0m \u001b[1;32mfor\u001b[0m \u001b[0mveh_type\u001b[0m \u001b[1;32min\u001b[0m \u001b[1;33m[\u001b[0m\u001b[1;34m'bus'\u001b[0m\u001b[1;33m,\u001b[0m\u001b[1;34m\"car\"\u001b[0m\u001b[1;33m,\u001b[0m\u001b[1;34m\"funicular\"\u001b[0m\u001b[1;33m]\u001b[0m\u001b[1;33m:\u001b[0m\u001b[1;33m\u001b[0m\u001b[1;33m\u001b[0m\u001b[0m\n\u001b[0;32m      2\u001b[0m         \u001b[0mevents\u001b[0m\u001b[1;33m.\u001b[0m\u001b[0mvehicle\u001b[0m \u001b[1;33m=\u001b[0m \u001b[0mevents\u001b[0m\u001b[1;33m.\u001b[0m\u001b[0mvehicle\u001b[0m\u001b[1;33m.\u001b[0m\u001b[0mastype\u001b[0m\u001b[1;33m(\u001b[0m\u001b[1;34m\"string\"\u001b[0m\u001b[1;33m)\u001b[0m\u001b[1;33m\u001b[0m\u001b[1;33m\u001b[0m\u001b[0m\n\u001b[1;32m----> 3\u001b[1;33m         \u001b[0mfilter_vehicle_events\u001b[0m\u001b[1;33m(\u001b[0m\u001b[0mevents\u001b[0m\u001b[1;33m,\u001b[0m \u001b[0mveh_type\u001b[0m\u001b[1;33m)\u001b[0m\u001b[1;33m\u001b[0m\u001b[1;33m\u001b[0m\u001b[0m\n\u001b[0m",
      "\u001b[1;32m~\\AppData\\Local\\Temp/ipykernel_7064/3093594166.py\u001b[0m in \u001b[0;36mfilter_vehicle_events\u001b[1;34m(events, vehicle_type, json_path)\u001b[0m\n\u001b[0;32m     17\u001b[0m         \u001b[0mvehicles\u001b[0m \u001b[1;33m=\u001b[0m \u001b[0mvehicles\u001b[0m\u001b[1;33m.\u001b[0m\u001b[0mappend\u001b[0m\u001b[1;33m(\u001b[0m\u001b[0mdriver_events\u001b[0m\u001b[1;33m)\u001b[0m\u001b[1;33m\u001b[0m\u001b[1;33m\u001b[0m\u001b[0m\n\u001b[0;32m     18\u001b[0m \u001b[1;33m\u001b[0m\u001b[0m\n\u001b[1;32m---> 19\u001b[1;33m     \u001b[0msave_vehicle\u001b[0m\u001b[1;33m(\u001b[0m\u001b[0mvehicles\u001b[0m\u001b[1;33m.\u001b[0m\u001b[0mgroupby\u001b[0m\u001b[1;33m(\u001b[0m\u001b[1;34m\"vehicle\"\u001b[0m\u001b[1;33m)\u001b[0m\u001b[1;33m,\u001b[0m \u001b[0mjson_file\u001b[0m \u001b[1;33m=\u001b[0m \u001b[0mjson_path\u001b[0m\u001b[1;33m,\u001b[0m \u001b[0mvehicle_type\u001b[0m\u001b[1;33m=\u001b[0m\u001b[0mvehicle_type\u001b[0m\u001b[1;33m,\u001b[0m \u001b[0mchunk_size\u001b[0m\u001b[1;33m=\u001b[0m\u001b[1;36m500\u001b[0m\u001b[1;33m)\u001b[0m\u001b[1;33m\u001b[0m\u001b[1;33m\u001b[0m\u001b[0m\n\u001b[0m\u001b[0;32m     20\u001b[0m     \u001b[1;32mreturn\u001b[0m \u001b[0mprint\u001b[0m\u001b[1;33m(\u001b[0m\u001b[1;34m\"Saved vehicle type:\"\u001b[0m\u001b[1;33m,\u001b[0m\u001b[0mvehicle_type\u001b[0m\u001b[1;33m,\u001b[0m \u001b[1;34m\"to\"\u001b[0m\u001b[1;33m,\u001b[0m \u001b[0mjson_path\u001b[0m\u001b[1;33m,\u001b[0m \u001b[1;34m\"at\"\u001b[0m\u001b[1;33m,\u001b[0m \u001b[0mdatetime\u001b[0m\u001b[1;33m.\u001b[0m\u001b[0mnow\u001b[0m\u001b[1;33m(\u001b[0m\u001b[1;33m)\u001b[0m\u001b[1;33m)\u001b[0m\u001b[1;33m\u001b[0m\u001b[1;33m\u001b[0m\u001b[0m\n\u001b[0;32m     21\u001b[0m \u001b[1;33m\u001b[0m\u001b[0m\n",
      "\u001b[1;32m~\\AppData\\Local\\Temp/ipykernel_7064/2516836941.py\u001b[0m in \u001b[0;36msave_vehicle\u001b[1;34m(vehicle_events, json_file, vehicle_type, chunk_size)\u001b[0m\n\u001b[0;32m     13\u001b[0m \u001b[1;33m\u001b[0m\u001b[0m\n\u001b[0;32m     14\u001b[0m         \u001b[1;31m#parse events\u001b[0m\u001b[1;33m\u001b[0m\u001b[1;33m\u001b[0m\u001b[1;33m\u001b[0m\u001b[0m\n\u001b[1;32m---> 15\u001b[1;33m         \u001b[1;32mfor\u001b[0m \u001b[0mid\u001b[0m\u001b[1;33m,\u001b[0m \u001b[0mrow\u001b[0m \u001b[1;32min\u001b[0m \u001b[0mvehicle\u001b[0m\u001b[1;33m.\u001b[0m\u001b[0miterrows\u001b[0m\u001b[1;33m(\u001b[0m\u001b[1;33m)\u001b[0m\u001b[1;33m:\u001b[0m\u001b[1;33m\u001b[0m\u001b[1;33m\u001b[0m\u001b[0m\n\u001b[0m\u001b[0;32m     16\u001b[0m             \u001b[0mevent\u001b[0m \u001b[1;33m=\u001b[0m \u001b[1;33m{\u001b[0m\u001b[1;33m}\u001b[0m\u001b[1;33m\u001b[0m\u001b[1;33m\u001b[0m\u001b[0m\n\u001b[0;32m     17\u001b[0m             \u001b[0mevent\u001b[0m\u001b[1;33m[\u001b[0m\u001b[1;34m\"event_id\"\u001b[0m\u001b[1;33m]\u001b[0m \u001b[1;33m=\u001b[0m \u001b[0mrow\u001b[0m\u001b[1;33m[\u001b[0m\u001b[1;36m0\u001b[0m\u001b[1;33m]\u001b[0m\u001b[1;33m\u001b[0m\u001b[1;33m\u001b[0m\u001b[0m\n",
      "\u001b[1;32m~\\.pyenv\\pyenv-win\\versions\\3.9.6\\lib\\site-packages\\pandas\\core\\frame.py\u001b[0m in \u001b[0;36miterrows\u001b[1;34m(self)\u001b[0m\n\u001b[0;32m   1261\u001b[0m         \u001b[0mklass\u001b[0m \u001b[1;33m=\u001b[0m \u001b[0mself\u001b[0m\u001b[1;33m.\u001b[0m\u001b[0m_constructor_sliced\u001b[0m\u001b[1;33m\u001b[0m\u001b[1;33m\u001b[0m\u001b[0m\n\u001b[0;32m   1262\u001b[0m         \u001b[1;32mfor\u001b[0m \u001b[0mk\u001b[0m\u001b[1;33m,\u001b[0m \u001b[0mv\u001b[0m \u001b[1;32min\u001b[0m \u001b[0mzip\u001b[0m\u001b[1;33m(\u001b[0m\u001b[0mself\u001b[0m\u001b[1;33m.\u001b[0m\u001b[0mindex\u001b[0m\u001b[1;33m,\u001b[0m \u001b[0mself\u001b[0m\u001b[1;33m.\u001b[0m\u001b[0mvalues\u001b[0m\u001b[1;33m)\u001b[0m\u001b[1;33m:\u001b[0m\u001b[1;33m\u001b[0m\u001b[1;33m\u001b[0m\u001b[0m\n\u001b[1;32m-> 1263\u001b[1;33m             \u001b[0ms\u001b[0m \u001b[1;33m=\u001b[0m \u001b[0mklass\u001b[0m\u001b[1;33m(\u001b[0m\u001b[0mv\u001b[0m\u001b[1;33m,\u001b[0m \u001b[0mindex\u001b[0m\u001b[1;33m=\u001b[0m\u001b[0mcolumns\u001b[0m\u001b[1;33m,\u001b[0m \u001b[0mname\u001b[0m\u001b[1;33m=\u001b[0m\u001b[0mk\u001b[0m\u001b[1;33m)\u001b[0m\u001b[1;33m\u001b[0m\u001b[1;33m\u001b[0m\u001b[0m\n\u001b[0m\u001b[0;32m   1264\u001b[0m             \u001b[1;32myield\u001b[0m \u001b[0mk\u001b[0m\u001b[1;33m,\u001b[0m \u001b[0ms\u001b[0m\u001b[1;33m\u001b[0m\u001b[1;33m\u001b[0m\u001b[0m\n\u001b[0;32m   1265\u001b[0m \u001b[1;33m\u001b[0m\u001b[0m\n",
      "\u001b[1;32m~\\.pyenv\\pyenv-win\\versions\\3.9.6\\lib\\site-packages\\pandas\\core\\series.py\u001b[0m in \u001b[0;36m__init__\u001b[1;34m(self, data, index, dtype, name, copy, fastpath)\u001b[0m\n\u001b[0;32m    445\u001b[0m                     \u001b[0mdata\u001b[0m \u001b[1;33m=\u001b[0m \u001b[0mSingleArrayManager\u001b[0m\u001b[1;33m.\u001b[0m\u001b[0mfrom_array\u001b[0m\u001b[1;33m(\u001b[0m\u001b[0mdata\u001b[0m\u001b[1;33m,\u001b[0m \u001b[0mindex\u001b[0m\u001b[1;33m)\u001b[0m\u001b[1;33m\u001b[0m\u001b[1;33m\u001b[0m\u001b[0m\n\u001b[0;32m    446\u001b[0m \u001b[1;33m\u001b[0m\u001b[0m\n\u001b[1;32m--> 447\u001b[1;33m         \u001b[0mgeneric\u001b[0m\u001b[1;33m.\u001b[0m\u001b[0mNDFrame\u001b[0m\u001b[1;33m.\u001b[0m\u001b[0m__init__\u001b[0m\u001b[1;33m(\u001b[0m\u001b[0mself\u001b[0m\u001b[1;33m,\u001b[0m \u001b[0mdata\u001b[0m\u001b[1;33m)\u001b[0m\u001b[1;33m\u001b[0m\u001b[1;33m\u001b[0m\u001b[0m\n\u001b[0m\u001b[0;32m    448\u001b[0m         \u001b[0mself\u001b[0m\u001b[1;33m.\u001b[0m\u001b[0mname\u001b[0m \u001b[1;33m=\u001b[0m \u001b[0mname\u001b[0m\u001b[1;33m\u001b[0m\u001b[1;33m\u001b[0m\u001b[0m\n\u001b[0;32m    449\u001b[0m         \u001b[0mself\u001b[0m\u001b[1;33m.\u001b[0m\u001b[0m_set_axis\u001b[0m\u001b[1;33m(\u001b[0m\u001b[1;36m0\u001b[0m\u001b[1;33m,\u001b[0m \u001b[0mindex\u001b[0m\u001b[1;33m,\u001b[0m \u001b[0mfastpath\u001b[0m\u001b[1;33m=\u001b[0m\u001b[1;32mTrue\u001b[0m\u001b[1;33m)\u001b[0m\u001b[1;33m\u001b[0m\u001b[1;33m\u001b[0m\u001b[0m\n",
      "\u001b[1;32m~\\.pyenv\\pyenv-win\\versions\\3.9.6\\lib\\site-packages\\pandas\\core\\generic.py\u001b[0m in \u001b[0;36m__init__\u001b[1;34m(self, data, copy, attrs)\u001b[0m\n\u001b[0;32m    239\u001b[0m         \u001b[1;31m# copy kwarg is retained for mypy compat, is not used\u001b[0m\u001b[1;33m\u001b[0m\u001b[1;33m\u001b[0m\u001b[1;33m\u001b[0m\u001b[0m\n\u001b[0;32m    240\u001b[0m \u001b[1;33m\u001b[0m\u001b[0m\n\u001b[1;32m--> 241\u001b[1;33m         \u001b[0mobject\u001b[0m\u001b[1;33m.\u001b[0m\u001b[0m__setattr__\u001b[0m\u001b[1;33m(\u001b[0m\u001b[0mself\u001b[0m\u001b[1;33m,\u001b[0m \u001b[1;34m\"_is_copy\"\u001b[0m\u001b[1;33m,\u001b[0m \u001b[1;32mNone\u001b[0m\u001b[1;33m)\u001b[0m\u001b[1;33m\u001b[0m\u001b[1;33m\u001b[0m\u001b[0m\n\u001b[0m\u001b[0;32m    242\u001b[0m         \u001b[0mobject\u001b[0m\u001b[1;33m.\u001b[0m\u001b[0m__setattr__\u001b[0m\u001b[1;33m(\u001b[0m\u001b[0mself\u001b[0m\u001b[1;33m,\u001b[0m \u001b[1;34m\"_mgr\"\u001b[0m\u001b[1;33m,\u001b[0m \u001b[0mdata\u001b[0m\u001b[1;33m)\u001b[0m\u001b[1;33m\u001b[0m\u001b[1;33m\u001b[0m\u001b[0m\n\u001b[0;32m    243\u001b[0m         \u001b[0mobject\u001b[0m\u001b[1;33m.\u001b[0m\u001b[0m__setattr__\u001b[0m\u001b[1;33m(\u001b[0m\u001b[0mself\u001b[0m\u001b[1;33m,\u001b[0m \u001b[1;34m\"_item_cache\"\u001b[0m\u001b[1;33m,\u001b[0m \u001b[1;33m{\u001b[0m\u001b[1;33m}\u001b[0m\u001b[1;33m)\u001b[0m\u001b[1;33m\u001b[0m\u001b[1;33m\u001b[0m\u001b[0m\n",
      "\u001b[1;31mKeyboardInterrupt\u001b[0m: "
     ]
    }
   ],
   "source": [
    "for veh_type in ['bus',\"car\",\"funicular\"]: #tram, subway\n",
    "        events.vehicle = events.vehicle.astype(\"string\")\n",
    "        filter_vehicle_events(events, veh_type)"
   ]
  },
  {
   "cell_type": "code",
   "execution_count": null,
   "metadata": {},
   "outputs": [],
   "source": []
  },
  {
   "cell_type": "code",
   "execution_count": null,
   "metadata": {},
   "outputs": [],
   "source": [
    "\n"
   ]
  },
  {
   "cell_type": "code",
   "execution_count": null,
   "metadata": {},
   "outputs": [],
   "source": []
  },
  {
   "cell_type": "code",
   "execution_count": null,
   "metadata": {},
   "outputs": [],
   "source": []
  }
 ],
 "metadata": {
  "interpreter": {
   "hash": "b4d000ebc1070b3c4f02c761be1e96128dc18de4056499f92a4920e8dfd6dfe9"
  },
  "kernelspec": {
   "display_name": "Python 3.9.6 64-bit ('3.9.6': pyenv)",
   "name": "python3"
  },
  "language_info": {
   "codemirror_mode": {
    "name": "ipython",
    "version": 3
   },
   "file_extension": ".py",
   "mimetype": "text/x-python",
   "name": "python",
   "nbconvert_exporter": "python",
   "pygments_lexer": "ipython3",
   "version": "3.9.6"
  },
  "orig_nbformat": 4
 },
 "nbformat": 4,
 "nbformat_minor": 2
}
