{
 "cells": [
  {
   "cell_type": "code",
   "execution_count": 3,
   "metadata": {},
   "outputs": [],
   "source": [
    "import pandas as pd\n",
    "import numpy as np\n",
    "import xml.etree.ElementTree as ET\n",
    "import os\n",
    "import json\n",
    "\n",
    "pd.set_option('display.max_columns', None)\n",
    "output_path = \"./../output/population/\""
   ]
  },
  {
   "cell_type": "markdown",
   "metadata": {},
   "source": [
    "# Loading events to separate tables\n",
    "* agents: people\n",
    "* vehicles:\n",
    "    * cars\n",
    "    * subway\n",
    "    * buses\n",
    "    * trams\n",
    "    * trains"
   ]
  },
  {
   "cell_type": "code",
   "execution_count": 4,
   "metadata": {},
   "outputs": [
    {
     "name": "stderr",
     "output_type": "stream",
     "text": [
      "C:\\Users\\Anna\\.pyenv\\pyenv-win\\versions\\3.9.6\\lib\\site-packages\\IPython\\core\\interactiveshell.py:3444: DtypeWarning: Columns (19,21,23,24) have mixed types.Specify dtype option on import or set low_memory=False.\n",
      "  exec(code_obj, self.user_global_ns, self.user_ns)\n",
      "C:\\Users\\Anna\\.pyenv\\pyenv-win\\versions\\3.9.6\\lib\\site-packages\\IPython\\core\\interactiveshell.py:3444: DtypeWarning: Columns (16,18,19) have mixed types.Specify dtype option on import or set low_memory=False.\n",
      "  exec(code_obj, self.user_global_ns, self.user_ns)\n",
      "C:\\Users\\Anna\\.pyenv\\pyenv-win\\versions\\3.9.6\\lib\\site-packages\\IPython\\core\\interactiveshell.py:3444: DtypeWarning: Columns (18,19) have mixed types.Specify dtype option on import or set low_memory=False.\n",
      "  exec(code_obj, self.user_global_ns, self.user_ns)\n",
      "C:\\Users\\Anna\\.pyenv\\pyenv-win\\versions\\3.9.6\\lib\\site-packages\\IPython\\core\\interactiveshell.py:3444: DtypeWarning: Columns (23,24) have mixed types.Specify dtype option on import or set low_memory=False.\n",
      "  exec(code_obj, self.user_global_ns, self.user_ns)\n",
      "C:\\Users\\Anna\\.pyenv\\pyenv-win\\versions\\3.9.6\\lib\\site-packages\\IPython\\core\\interactiveshell.py:3444: DtypeWarning: Columns (21,23,24) have mixed types.Specify dtype option on import or set low_memory=False.\n",
      "  exec(code_obj, self.user_global_ns, self.user_ns)\n",
      "C:\\Users\\Anna\\.pyenv\\pyenv-win\\versions\\3.9.6\\lib\\site-packages\\IPython\\core\\interactiveshell.py:3444: DtypeWarning: Columns (16,23,24) have mixed types.Specify dtype option on import or set low_memory=False.\n",
      "  exec(code_obj, self.user_global_ns, self.user_ns)\n",
      "C:\\Users\\Anna\\.pyenv\\pyenv-win\\versions\\3.9.6\\lib\\site-packages\\IPython\\core\\interactiveshell.py:3444: DtypeWarning: Columns (9,21,23,24) have mixed types.Specify dtype option on import or set low_memory=False.\n",
      "  exec(code_obj, self.user_global_ns, self.user_ns)\n",
      "C:\\Users\\Anna\\.pyenv\\pyenv-win\\versions\\3.9.6\\lib\\site-packages\\IPython\\core\\interactiveshell.py:3444: DtypeWarning: Columns (17,21) have mixed types.Specify dtype option on import or set low_memory=False.\n",
      "  exec(code_obj, self.user_global_ns, self.user_ns)\n",
      "C:\\Users\\Anna\\.pyenv\\pyenv-win\\versions\\3.9.6\\lib\\site-packages\\IPython\\core\\interactiveshell.py:3444: DtypeWarning: Columns (12) have mixed types.Specify dtype option on import or set low_memory=False.\n",
      "  exec(code_obj, self.user_global_ns, self.user_ns)\n",
      "C:\\Users\\Anna\\.pyenv\\pyenv-win\\versions\\3.9.6\\lib\\site-packages\\IPython\\core\\interactiveshell.py:3444: DtypeWarning: Columns (17,21,23,24) have mixed types.Specify dtype option on import or set low_memory=False.\n",
      "  exec(code_obj, self.user_global_ns, self.user_ns)\n",
      "C:\\Users\\Anna\\.pyenv\\pyenv-win\\versions\\3.9.6\\lib\\site-packages\\IPython\\core\\interactiveshell.py:3444: DtypeWarning: Columns (14,18,19) have mixed types.Specify dtype option on import or set low_memory=False.\n",
      "  exec(code_obj, self.user_global_ns, self.user_ns)\n",
      "C:\\Users\\Anna\\.pyenv\\pyenv-win\\versions\\3.9.6\\lib\\site-packages\\IPython\\core\\interactiveshell.py:3444: DtypeWarning: Columns (16,17) have mixed types.Specify dtype option on import or set low_memory=False.\n",
      "  exec(code_obj, self.user_global_ns, self.user_ns)\n",
      "C:\\Users\\Anna\\.pyenv\\pyenv-win\\versions\\3.9.6\\lib\\site-packages\\IPython\\core\\interactiveshell.py:3444: DtypeWarning: Columns (17,23,24) have mixed types.Specify dtype option on import or set low_memory=False.\n",
      "  exec(code_obj, self.user_global_ns, self.user_ns)\n",
      "C:\\Users\\Anna\\.pyenv\\pyenv-win\\versions\\3.9.6\\lib\\site-packages\\IPython\\core\\interactiveshell.py:3444: DtypeWarning: Columns (17) have mixed types.Specify dtype option on import or set low_memory=False.\n",
      "  exec(code_obj, self.user_global_ns, self.user_ns)\n"
     ]
    }
   ],
   "source": [
    "events = pd.DataFrame()\n",
    "\n",
    "dtypes = {\n",
    "    \"time\": np.float64,\n",
    "    \"type\": str,\n",
    "    \"driverId\": str,\n",
    "    \"vehicleId\": str,\n",
    "    \"transitLineId\": str,\n",
    "    \"transitRouteId\": str,\n",
    "    \"departureId\": str,\n",
    "    \"person\": str,\n",
    "    \"link\": str,\n",
    "    \"legMode\": 'category', #category\n",
    "    \"vehicle\": str,\n",
    "    \"networkMode\": str, #category\n",
    "    \"relativePosition\": np.float64,\n",
    "    \"facility\": str,\n",
    "    \"delay\": np.float64,\n",
    "    \"x\": np.float64,\n",
    "    \"y\": np.float64,\n",
    "    \"actType\": str,\n",
    "}\n",
    "\n",
    "for csv in os.listdir(output_path):\n",
    "    df = pd.read_csv(output_path+csv, dtype=dtypes)\n",
    "    events =events.append(df, ignore_index=True)"
   ]
  },
  {
   "cell_type": "code",
   "execution_count": 5,
   "metadata": {},
   "outputs": [
    {
     "name": "stdout",
     "output_type": "stream",
     "text": [
      "<class 'pandas.core.frame.DataFrame'>\n",
      "RangeIndex: 10639855 entries, 0 to 10639854\n",
      "Data columns (total 25 columns):\n",
      " #   Column                    Dtype  \n",
      "---  ------                    -----  \n",
      " 0   Unnamed: 0                int64  \n",
      " 1   time                      float64\n",
      " 2   type                      object \n",
      " 3   driverId                  object \n",
      " 4   vehicleId                 object \n",
      " 5   transitLineId             object \n",
      " 6   transitRouteId            object \n",
      " 7   departureId               object \n",
      " 8   person                    object \n",
      " 9   link                      object \n",
      " 10  legMode                   object \n",
      " 11  vehicle                   object \n",
      " 12  networkMode               object \n",
      " 13  relativePosition          float64\n",
      " 14  facility                  object \n",
      " 15  delay                     float64\n",
      " 16  x                         float64\n",
      " 17  y                         float64\n",
      " 18  actType                   object \n",
      " 19  computationalRoutingMode  object \n",
      " 20  distance                  float64\n",
      " 21  mode                      object \n",
      " 22  agent                     float64\n",
      " 23  atStop                    object \n",
      " 24  destinationStop           object \n",
      "dtypes: float64(7), int64(1), object(17)\n",
      "memory usage: 2.0+ GB\n"
     ]
    }
   ],
   "source": [
    "events.info()\n",
    "#events.describe()"
   ]
  },
  {
   "cell_type": "code",
   "execution_count": 6,
   "metadata": {},
   "outputs": [
    {
     "data": {
      "text/plain": [
       "car     76244\n",
       "walk    42488\n",
       "pt      22621\n",
       "Name: legMode, dtype: int64"
      ]
     },
     "execution_count": 6,
     "metadata": {},
     "output_type": "execute_result"
    }
   ],
   "source": [
    "events.legMode.value_counts()\n",
    "#events.facility.value_counts()"
   ]
  },
  {
   "cell_type": "code",
   "execution_count": null,
   "metadata": {},
   "outputs": [],
   "source": [
    "events.vehicle.value_counts()"
   ]
  },
  {
   "cell_type": "code",
   "execution_count": null,
   "metadata": {},
   "outputs": [],
   "source": [
    "np.where(events.person == \"8\")"
   ]
  },
  {
   "cell_type": "code",
   "execution_count": null,
   "metadata": {},
   "outputs": [],
   "source": [
    "person = events.loc[np.where(events.person == 1.0)]\n",
    "#display(person.head(10))\n",
    "#person.iloc[np.where(person.legMode == \"walk\")]"
   ]
  },
  {
   "cell_type": "markdown",
   "metadata": {},
   "source": [
    "## Loading people to separate file"
   ]
  },
  {
   "cell_type": "code",
   "execution_count": 7,
   "metadata": {},
   "outputs": [
    {
     "data": {
      "text/plain": [
       "array([nan, '2451', '1083', ..., 'veh_2194_bus', 'veh_12613_bus',\n",
       "       'veh_23236_tram'], dtype=object)"
      ]
     },
     "execution_count": 7,
     "metadata": {},
     "output_type": "execute_result"
    }
   ],
   "source": [
    "agents = pd.DataFrame()\n",
    "agents =  events[pd.to_numeric(events['person'], errors='coerce').notnull()] # removes drivers\n",
    "agents.head()\n",
    "agents.vehicle.unique()"
   ]
  },
  {
   "cell_type": "code",
   "execution_count": 16,
   "metadata": {},
   "outputs": [],
   "source": [
    "\"\"\"\n",
    "people = [\n",
    "        {id: 1,\n",
    "        events: [\n",
    "                {event_id :,\n",
    "                 time: \n",
    "                 type:\n",
    "                 link:\n",
    "                 vehicle_id:\n",
    "                 delay:\n",
    "                 coords: [x,y]\n",
    "                 destination:  Act)\n",
    "                 }\n",
    "        ]}\n",
    "]\n",
    "\"\"\"\n",
    "\n",
    "def save_agents(persons, json_file):\n",
    "    people = pd.DataFrame()\n",
    "    for person in persons:\n",
    "        agent = pd.DataFrame(person[1])\n",
    "        agent_id = person[0]\n",
    "        agent = agent.sort_values(\"time\")\n",
    "        #print(\"Person Id:\", agent_id)\n",
    "        events = []\n",
    "        for id, row in agent.iterrows():\n",
    "            event = {}\n",
    "            event[\"event_id\"] = row[0]\n",
    "            event[\"time\"] = row[\"time\"]\n",
    "            event[\"type\"] = row[\"type\"]\n",
    "            event[\"link\"] = row[\"link\"]\n",
    "            event[\"vehicle_id\"] = row[\"vehicle\"]\n",
    "            event[\"delay\"] = row[\"delay\"]\n",
    "            event[\"actType\"] = row[\"actType\"]\n",
    "            event[\"legMode\"] = row[\"legMode\"]\n",
    "            event[\"coords_x\"] = row[\"x\"]\n",
    "            event[\"coords_y\"] = row[\"y\"]\n",
    "            events.append(event)\n",
    "\n",
    "        new_vehicle = pd.DataFrame(columns=['id','events'])\n",
    "        new_vehicle.loc[0,'id'] = agent_id\n",
    "        new_vehicle.loc[0,'events']  =  events\n",
    "        people = people.append(new_vehicle)\n",
    "\n",
    "    people.reset_index(drop=True, inplace=True)\n",
    "    people.to_json(json_file, lines=True, orient='records')  \n",
    "    print(\"People save to:\", json_file)"
   ]
  },
  {
   "cell_type": "code",
   "execution_count": 17,
   "metadata": {},
   "outputs": [
    {
     "name": "stdout",
     "output_type": "stream",
     "text": [
      "People save to: ./../output/events/agent.json\n"
     ]
    }
   ],
   "source": [
    "save_agents(agents.groupby(\"person\"), json_file = \"./../output/events/agent.json\")"
   ]
  },
  {
   "cell_type": "markdown",
   "metadata": {},
   "source": [
    "## Loading vehicle events to separate files\n",
    "\n",
    "- cars\n",
    "- subway\n",
    "- buses\n",
    "- trams\n",
    "- trains\n",
    "- ferry\n",
    "- funicular\n"
   ]
  },
  {
   "cell_type": "code",
   "execution_count": null,
   "metadata": {},
   "outputs": [],
   "source": [
    "def save_vehicle(vehicle_events, json_file, vehicle_type = \"\"):\n",
    "    vehicles = pd.DataFrame()\n",
    "    for agent in vehicle_events:\n",
    "        vehicle = pd.DataFrame(agent[1])\n",
    "        vehicle = vehicle.sort_values(\"time\")\n",
    "        events = []\n",
    "        if(vehicle_type == \"car\"):\n",
    "            vehicle_id = int(vehicle.vehicle.unique()[0])\n",
    "        else:\n",
    "            vehicle_id = vehicle.vehicle.unique()[0]\n",
    "\n",
    "        #parse events\n",
    "        for id, row in vehicle.iterrows():\n",
    "            event = {}\n",
    "            event[\"event_id\"] = row[0]\n",
    "            event[\"time\"] = row[\"time\"]\n",
    "            event[\"type\"] = row[\"type\"]\n",
    "            event[\"link\"] = row[\"link\"]\n",
    "            event[\"person_id\"] = row[\"person\"]\n",
    "            event[\"delay\"] = row[\"delay\"]\n",
    "            event[\"facility\"] = row['facility']\n",
    "            #if facility, parse out link\n",
    "            #print(type(row['facility']))\n",
    "            if isinstance(row['facility'],str): #and not(np.isnan(row['facility'])):\n",
    "                #print(\"filling link\", row['facility'],row['facility'].split(\":\")[-1])\n",
    "                event['link'] = row['facility'].split(\":\")[-1]\n",
    "                #return\n",
    "            event[\"networkMode\"] = row['networkMode']\n",
    "            event[\"relativePosition\"] = row['relativePosition']\n",
    "            event[\"actType\"] = row[\"actType\"]\n",
    "            event[\"legMode\"] = row[\"legMode\"]\n",
    "            event[\"coords_x\"] = row[\"x\"]\n",
    "            event[\"coords_y\"] = row[\"y\"]\n",
    "\n",
    "            if(vehicle_type != \"car\"):\n",
    "                if(event[\"type\"] == \"TransitDriverStarts\"):\n",
    "                    #print(\"Driver starts\")\n",
    "                    event[\"transitLine\"] = row['transitLineId']\n",
    "                    event[\"transitRoute\"] = row['transitRouteId'] ## add to output\n",
    "                event[\"departure\"] = row['departureId']\n",
    "                event[\"atStop\"] = row[\"atStop\"]\n",
    "                event[\"destinationStop\"] = row[\"destinationStop\"]\n",
    "\n",
    "            events.append(event)\n",
    "\n",
    "        new_vehicle = pd.DataFrame(columns=['id','events'])\n",
    "        new_vehicle.loc[0,'id'] = vehicle_id\n",
    "        new_vehicle.loc[0,'events']  =  events\n",
    "        vehicles = vehicles.append(new_vehicle)\n",
    "\n",
    "    vehicles.reset_index(drop=True, inplace=True)\n",
    "    vehicles.to_json(json_file+\"/\"+vehicle_type+\".json\", lines=True, orient='records')  \n",
    "    del vehicles \n"
   ]
  },
  {
   "cell_type": "code",
   "execution_count": null,
   "metadata": {},
   "outputs": [],
   "source": [
    "vehicle_types = [\"car\",\"funicular\",\"ferry\",\"subway\",\"rail\",\"tram\",\"bus\"]\n",
    "\n",
    "def filter_vehicle_events(events, vehicle_type, json_path=\"./../output/events\"):\n",
    "    from datetime import datetime\n",
    "    print(\"Started filtering:\",vehicle_type, \"at\", datetime.now())\n",
    "    vehicles = pd.DataFrame()\n",
    "    if vehicle_type == 'car':\n",
    "        vehicles = events[pd.to_numeric(events['vehicle'], errors='coerce').notnull()]\n",
    "    else:\n",
    "        vehicles = events.loc[events['vehicle'].str.contains(vehicle_type, case=False)]\n",
    "        #events['vehicleId'].notnull() and \n",
    "        driver_events = events[events['vehicleId'].notnull() & events['vehicleId'].str.contains(vehicle_type, case=False)]\n",
    "        driver_events['vehicle'] = driver_events['vehicleId']\n",
    "        \n",
    "        #display(driver_events.head())\n",
    "        #return\n",
    "        vehicles = vehicles.append(driver_events)\n",
    "\n",
    "    save_vehicle(vehicles.groupby(\"vehicle\"), json_file = json_path, vehicle_type=vehicle_type)\n",
    "    return print(\"Saved vehicle type:\",vehicle_type, \"to\", json_path, \"at\", datetime.now())\n",
    "        "
   ]
  },
  {
   "cell_type": "code",
   "execution_count": null,
   "metadata": {},
   "outputs": [],
   "source": [
    "for veh_type in ['subway','tram','ferry','bus',]:\n",
    "        events.vehicle = events.vehicle.astype(\"string\")\n",
    "        filter_vehicle_events(events, veh_type)"
   ]
  },
  {
   "cell_type": "code",
   "execution_count": null,
   "metadata": {},
   "outputs": [],
   "source": []
  },
  {
   "cell_type": "code",
   "execution_count": null,
   "metadata": {},
   "outputs": [],
   "source": [
    "\n"
   ]
  },
  {
   "cell_type": "code",
   "execution_count": null,
   "metadata": {},
   "outputs": [],
   "source": []
  },
  {
   "cell_type": "code",
   "execution_count": null,
   "metadata": {},
   "outputs": [],
   "source": []
  }
 ],
 "metadata": {
  "interpreter": {
   "hash": "b4d000ebc1070b3c4f02c761be1e96128dc18de4056499f92a4920e8dfd6dfe9"
  },
  "kernelspec": {
   "display_name": "Python 3.9.6 64-bit ('3.9.6': pyenv)",
   "name": "python3"
  },
  "language_info": {
   "codemirror_mode": {
    "name": "ipython",
    "version": 3
   },
   "file_extension": ".py",
   "mimetype": "text/x-python",
   "name": "python",
   "nbconvert_exporter": "python",
   "pygments_lexer": "ipython3",
   "version": "3.9.6"
  },
  "orig_nbformat": 4
 },
 "nbformat": 4,
 "nbformat_minor": 2
}
